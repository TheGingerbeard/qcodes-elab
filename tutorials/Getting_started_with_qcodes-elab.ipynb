{
 "cells": [
  {
   "cell_type": "markdown",
   "id": "ad4e4a66",
   "metadata": {},
   "source": [
    "# Getting started with qcodes-elab"
   ]
  },
  {
   "cell_type": "code",
   "execution_count": 1,
   "id": "7f622cf8",
   "metadata": {},
   "outputs": [],
   "source": [
    "## Initialising\n",
    "\n",
    "import qcodes as qc\n",
    "from qcodes.tests.instrument_mocks import DummyMeasurementInstrument\n",
    "\n",
    "instrument=DummyMeasurementInstrument(name='instrument')\n",
    "\n",
    "station=qc.Station(instrument)\n",
    "\n",
    "# Tell qcodes where to save data, relative to the folder containing this notebook.\n",
    "qc.set_data_folder('data')"
   ]
  },
  {
   "cell_type": "markdown",
   "id": "840a4bae",
   "metadata": {},
   "source": [
    "## Setting and getting values"
   ]
  },
  {
   "cell_type": "code",
   "execution_count": 2,
   "id": "8d51ed9b",
   "metadata": {},
   "outputs": [],
   "source": [
    "instrument.output1(0.1)"
   ]
  },
  {
   "cell_type": "code",
   "execution_count": 3,
   "id": "a808568c",
   "metadata": {},
   "outputs": [
    {
     "data": {
      "text/plain": [
       "0.1"
      ]
     },
     "execution_count": 3,
     "metadata": {},
     "output_type": "execute_result"
    }
   ],
   "source": [
    "instrument.output1()"
   ]
  },
  {
   "cell_type": "code",
   "execution_count": null,
   "id": "60f58118",
   "metadata": {},
   "outputs": [],
   "source": [
    "instrument.output2(1.56)"
   ]
  },
  {
   "cell_type": "code",
   "execution_count": null,
   "id": "51228b05",
   "metadata": {},
   "outputs": [],
   "source": [
    "instrument.output2()"
   ]
  },
  {
   "cell_type": "code",
   "execution_count": null,
   "id": "84589bbd",
   "metadata": {},
   "outputs": [],
   "source": [
    "instrument.input1()"
   ]
  },
  {
   "cell_type": "code",
   "execution_count": null,
   "id": "973e900d",
   "metadata": {},
   "outputs": [],
   "source": [
    "instrument.input2()"
   ]
  },
  {
   "cell_type": "code",
   "execution_count": null,
   "id": "0d60366b",
   "metadata": {},
   "outputs": [],
   "source": [
    "print(instrument.input1(),instrument.input2())"
   ]
  },
  {
   "cell_type": "markdown",
   "id": "e4b1b338",
   "metadata": {},
   "source": [
    "## Running an experiment"
   ]
  },
  {
   "cell_type": "code",
   "execution_count": 4,
   "id": "3da4b3e4",
   "metadata": {},
   "outputs": [
    {
     "name": "stdout",
     "output_type": "stream",
     "text": [
      "DataSet:\n",
      "   location = 'data/#012_ImaginaryDevice Vout(0 0.1)V T=23.4K_2022-11-28_11-57-13'\n",
      "   <Type>   | <array_id>             | <array.name> | <array.shape>\n",
      "   Setpoint | instrument_output1_set | output1      | (101,)\n",
      "   Measured | instrument_input1      | input1       | (101,)\n",
      "   Measured | instrument_input2      | input2       | (101,)\n",
      "   Measured | timer                  | timer        | (101,)\n"
     ]
    }
   ],
   "source": [
    "station.set_measurement(instrument.input1,instrument.input2)\n",
    "\n",
    "loop=qc.Loop(instrument.output1.sweep(0,1,num=101),delay=0.1).each(*station.measure())\n",
    "\n",
    "data=loop.get_data_set(name='ImaginaryDevice Vout(0 0.1)V T=23.4K')\n",
    "print(data)"
   ]
  },
  {
   "cell_type": "code",
   "execution_count": null,
   "id": "bddc044f",
   "metadata": {},
   "outputs": [],
   "source": [
    "pp=qc.Plot()\n",
    "data.publisher=pp\n",
    "\n",
    "pp.add(data.instrument_input1,subplot=0)\n",
    "pp.add(data.instrument_input2,subplot=1)\n",
    "pp.add(data.timer,subplot=2)\n",
    "\n",
    "#pp.add_multiple(data.instrument_input1,data.instrument_input2,data.timer)\n",
    "\n",
    "_=loop.run()"
   ]
  },
  {
   "cell_type": "markdown",
   "id": "dfbde6bf",
   "metadata": {},
   "source": [
    "## 2D loops"
   ]
  },
  {
   "cell_type": "code",
   "execution_count": null,
   "id": "e0c62327",
   "metadata": {},
   "outputs": [],
   "source": [
    "station.set_measurement(instrument.input1,instrument.input2)\n",
    "\n",
    "loop=qc.Loop(instrument.output1.sweep(-1,1,num=21),delay=0.01)\n",
    "outerloop=qc.Loop(instrument.output2.sweep(-0.5,0.5,num=21),delay=0.1).each(loop)\n",
    "\n",
    "data=outerloop.get_data_set(name='ImaginaryDevice Vout1(-1 1)V Vout2(-0.5 0.5) T=23.2K')\n",
    "print(data)"
   ]
  },
  {
   "cell_type": "code",
   "execution_count": null,
   "id": "12e1de0c",
   "metadata": {},
   "outputs": [],
   "source": [
    "pp=qc.Plot()\n",
    "data.publisher=pp\n",
    "pp.add(data.instrument_input1,subplot=0)\n",
    "pp.add(data.instrument_input2,subplot=1)\n",
    "_=outerloop.run()"
   ]
  },
  {
   "cell_type": "markdown",
   "id": "ed7a60b8",
   "metadata": {},
   "source": [
    "## Custom parameters"
   ]
  },
  {
   "cell_type": "code",
   "execution_count": null,
   "id": "0ed1a45b",
   "metadata": {},
   "outputs": [],
   "source": [
    "current=qc.ScaledParameter(instrument.input1,gain=1e-6,name='current',label='Current',unit='A')\n",
    "\n",
    "def get_resistance():\n",
    "    return(instrument.input2()/current())\n",
    "resistance=qc.Parameter(name='resistance',label='R',unit='Ohm',get_cmd=get_resistance)\n",
    "\n",
    "def set_vector(value):\n",
    "    instrument.output1(value+0.1)\n",
    "    instrument.output2(value*2.5+0.8)\n",
    "def get_vector():\n",
    "    return(instrument.output1())\n",
    "OutputVector=qc.Parameter(name='OutputVector',label='Vector',unit='V',get_cmd=get_vector,set_cmd=set_vector)\n",
    "\n",
    "def set_stepper(val):\n",
    "    0\n",
    "stepper=qc.Parameter(name='stepper',label='step',unit='number',set_cmd=set_stepper)"
   ]
  },
  {
   "cell_type": "code",
   "execution_count": null,
   "id": "68832171",
   "metadata": {},
   "outputs": [],
   "source": [
    "timeloop=qc.Loop(stepper.sweep(0,1,num=101),delay=0.1)\n",
    "data=timeloop.get_data_set(name='ImaginaryDevice monitor for 10 s')\n",
    "\n",
    "pp=qc.Plot()\n",
    "data.publisher=pp\n",
    "\n",
    "pp.add(data.timer,data.instrument_input1,subplot=0)\n",
    "pp.add(data.timer,data.instrument_input2,subplot=1)\n",
    "\n",
    "_=timeloop.run()"
   ]
  },
  {
   "cell_type": "markdown",
   "id": "9b2d8f54",
   "metadata": {},
   "source": [
    "## More complicated experiments"
   ]
  },
  {
   "cell_type": "code",
   "execution_count": null,
   "id": "14df6706",
   "metadata": {},
   "outputs": [],
   "source": [
    "def get_conductance():\n",
    "    return(current()/(12906*instrument.input2()))\n",
    "conductance=qc.Parameter(name='conductance',label='G',unit='2e2/h',get_cmd=get_resistance)\n",
    "\n",
    "station.set_measurement(instrument.input1,instrument.input2,current,conductance)\n",
    "pp=qc.Plot()\n",
    "\n",
    "for j in range(5):\n",
    "    loop=qc.Loop(instrument.output1.sweep(-1,-0.5,num=21),delay=0.01)\n",
    "    outerloop=qc.Loop(instrument.output2.sweep(-0.5,-0.3,num=21),delay=0.1).each(loop)\n",
    "    data=outerloop.get_data_set(name='ImaginaryDevice Vout1(-1 -0.5)V Vout2(-0.5 -0.3) T=23.2K repeat={}'.format(j))\n",
    "    data.publisher=pp\n",
    "    pp.add(data.conductance,subplot=j)\n",
    "    outerloop.run()"
   ]
  }
 ],
 "metadata": {
  "kernelspec": {
   "display_name": "Python 3 (ipykernel)",
   "language": "python",
   "name": "python3"
  },
  "language_info": {
   "codemirror_mode": {
    "name": "ipython",
    "version": 3
   },
   "file_extension": ".py",
   "mimetype": "text/x-python",
   "name": "python",
   "nbconvert_exporter": "python",
   "pygments_lexer": "ipython3",
   "version": "3.10.6"
  }
 },
 "nbformat": 4,
 "nbformat_minor": 5
}
