{
 "cells": [
  {
   "cell_type": "markdown",
   "metadata": {},
   "source": [
    "# Template for measurements in elab"
   ]
  },
  {
   "cell_type": "code",
   "execution_count": 1,
   "metadata": {},
   "outputs": [
    {
     "name": "stdout",
     "output_type": "stream",
     "text": [
      "Connected to: Keithley Instruments Inc. 2612 (serial:1155500, firmware:1.4.2) in 0.16s\n"
     ]
    }
   ],
   "source": [
    "#load packages\n",
    "import time\n",
    "import qcodes as qc\n",
    "from qcodes import Plot\n",
    "from qcodes.plots.analysis_tools import IGconvert\n",
    "\n",
    "from qcodes.instrument_drivers.QDev.QDac import QDac\n",
    "from qcodes.instrument_drivers.tektronix.Keithley_2600_channels import Keithley_2600\n",
    "from qcodes.instrument_drivers.ZI.ZIHF2LI import ZIHF2LI\n",
    "from qcodes.instrument_drivers.ZI.ZIMFLI import ZIMFLI\n",
    "from qcodes.instrument_drivers.ZI.ZIMFLI_sync import syncLockins\n",
    "from qcodes.instrument_drivers.yokogawa.GS200 import GS200\n",
    "\n",
    "#---------------------------------------------------------------------------------\n",
    "#Set format for saving data\n",
    "#---------------------------------------------------------------------------------\n",
    "\n",
    "qc.set_data_format('data/#{counter}_{name}_{date}_{time}')\n",
    "\n",
    "#---------------------------------------------------------------------------------\n",
    "#Connect to instruments\n",
    "#---------------------------------------------------------------------------------\n",
    "\n",
    "keith = Keithley_2600('keith','GPIB0::26::INSTR')\n",
    "k1=keith.smua\n",
    "k2=keith.smub\n",
    "\n",
    "yoko=GS200('yoko','GPIB0::1::INSTR')\n",
    "\n",
    "li_hf = ZIHF2LI(name ='li_hf', serial='dev1832')\n",
    "li_a = ZIMFLI(name ='li_a', serial='dev5185', server=\"internal\")\n",
    "\n",
    "#------------------------------------------------------------------------\n",
    "# Define custom parameters\n",
    "#------------------------------------------------------------------------\n",
    "\n",
    "voltagedivider=1e5\n",
    "currentamplifier=1e-6\n",
    "excitation=li_a.out0_amp()\n",
    "G0=1/7.74809173e-5\n",
    "cond2pt=qc.ScaledParameter(li_a.demod0_X,gain=currentamplifier*G0/(voltagedivider*excitation),name='cond2pt',label='G',unit='2e2/h')\n",
    "current=qc.ScaledParameter(li_a.demod0_X,gain=currentamplifier,name='current',label='Current',unit='A')\n",
    "\n",
    "def set_stepper(val):\n",
    "    0\n",
    "stepper=qc.Parameter(name='stepper',label='step',unit='',set_cmd=set_stepper)\n",
    "\n",
    "#------------------------------------------------------------------------\n",
    "# Initiate a 'station' with the instrument and parameters declared above #VERY IMPORTANT to keep updated\n",
    "#------------------------------------------------------------------------\n",
    "\n",
    "station=qc.Station(li_a,li_hf,keith,yoko,timer,stepper,cond2pt)\n",
    "\n",
    "#------------------------------------------------------------------------\n",
    "# Function Definitions\n",
    "#------------------------------------------------------------------------\n",
    "\n",
    "def device_move(devicename,end_gate,steps=100):\n",
    "    start_gate = devicename()\n",
    "    for i in range(0,steps+1):\n",
    "        devicename(start_gate + (end_gate - start_gate)/steps * i)\n",
    "        #print(start_gate + (end_gate - start_gate)/gate_points * i)\n",
    "        time.sleep(0.01)"
   ]
  },
  {
   "cell_type": "markdown",
   "metadata": {},
   "source": [
    "# Single loop"
   ]
  },
  {
   "cell_type": "code",
   "execution_count": null,
   "metadata": {},
   "outputs": [],
   "source": [
    "station.set_measurement(li_a.demod0_X,li_a.demod0_Y)\n",
    "\n",
    "device_name='test'\n",
    "instrument_info='test'\n",
    "\n",
    "sweep_parameter=li_a.out0_amp\n",
    "start=sweep_parameter()\n",
    "stop=0.1\n",
    "num=101\n",
    "delay=0.1\n",
    "\n",
    "loop=qc.Loop(sweep_parameter.sweep(start,stop,num=num),delay=delay).each(*station.measure())\n",
    "\n",
    "data=loop.get_data_set(name='{} {}({} {}){} with {}'.format(device_name,sweep_parameter.full_name,start,stop,sweep_parameter.unit,instrument_info))\n",
    "data"
   ]
  },
  {
   "cell_type": "code",
   "execution_count": null,
   "metadata": {},
   "outputs": [],
   "source": [
    "pp=qc.Plot()\n",
    "data.publisher=pp\n",
    "pp.add(data.li_a_demod0_X,subplot=0)\n",
    "pp.add(data.timer,title='time',name='time',subplot=1)\n",
    "\n",
    "loop.run()"
   ]
  },
  {
   "cell_type": "markdown",
   "metadata": {},
   "source": [
    "# 2d loop"
   ]
  },
  {
   "cell_type": "code",
   "execution_count": null,
   "metadata": {},
   "outputs": [],
   "source": [
    "station.set_measurement(li_a.demod0_X,li_a.demod0_Y)\n",
    "\n",
    "device_name='test'\n",
    "instrument_info='test'\n",
    "\n",
    "sweep_parameter=li_a.out0_amp\n",
    "start=0\n",
    "stop=0.1\n",
    "num=11\n",
    "delay=0.05\n",
    "\n",
    "step_parameter=stepper\n",
    "step_start=0\n",
    "step_stop=1\n",
    "step_num=10\n",
    "step_delay=0.1\n",
    "\n",
    "loop=qc.Loop(sweep_parameter.sweep(start,stop,num=num),delay=delay).each(*station.measure())\n",
    "loop_2d=qc.Loop(step_parameter.sweep(step_start,step_stop,num=step_num),delay=step_delay).each(loop)\n",
    "\n",
    "data=loop_2d.get_data_set(name='{} {}({} {}){} {}({} {}){} with {}'.format(device_name,step_parameter.full_name,step_stop,step_start,step_parameter.unit,sweep_parameter.full_name,stop,start,sweep_parameter.unit,instrument_info))\n",
    "data"
   ]
  },
  {
   "cell_type": "code",
   "execution_count": null,
   "metadata": {},
   "outputs": [],
   "source": [
    "pp=qc.Plot()\n",
    "data.publisher=pp\n",
    "pp.add(data.li_a_demod0_X,subplot=0)\n",
    "pp.add(data.timer,title='time',name='time',subplot=1,linecuts=True)\n",
    "loop_2d.run()\n",
    "\n",
    "for i in range(len(data.li_a_out0_amp_set)):\n",
    "    pp.add(data.li_a_out0_amp_set[i],data.timer[i],xlabel='amplitude',xunit='V',ylabel='time',yunit='s',subplot=2)\n",
    "IGexport(data,z_param='li_a_demod0_X')"
   ]
  },
  {
   "cell_type": "markdown",
   "metadata": {},
   "source": [
    "# 2d loop with up and down loops"
   ]
  },
  {
   "cell_type": "code",
   "execution_count": null,
   "metadata": {},
   "outputs": [],
   "source": [
    "station.set_measurement(timer,k1.curr,k2.curr)\n",
    "\n",
    "device_name='device1'\n",
    "instrument_info='insert here'\n",
    "\n",
    "sweep_parameter=k1.volt\n",
    "start=0\n",
    "stop=1\n",
    "num=11\n",
    "delay=0.1\n",
    "\n",
    "step_parameter=k2.volt\n",
    "step_start=0\n",
    "step_stop=1\n",
    "step_num=11\n",
    "step_delay=0.1\n",
    "\n",
    "loop=qc.Loop(sweep_parameter.sweep(start,stop,num=num),delay=delay).each(*station.measure())\n",
    "loop_down=qc.Loop(sweep_parameter.sweep(stop,start,num=num),delay=delay).each(*station.measure())\n",
    "loop_2d_updown=qc.Loop(step_parameter.sweep(step_start,step_stop,num=step_num),delay=step_delay).each(loop,loop_down)\n",
    "\n",
    "data=loop_2d_updown.get_data_set(name='{} {}({} {}){} {}({} {}){} with {}'.format(device_name,step_parameter.full_name,step_stop,step_start,step_parameter.unit,sweep_parameter.full_name,stop,start,sweep_parameter.unit,instrument_info))\n",
    "data"
   ]
  },
  {
   "cell_type": "code",
   "execution_count": null,
   "metadata": {},
   "outputs": [],
   "source": [
    "pp=Plot()\n",
    "data.publisher=pp\n",
    "pp.add(data.keith_smua_curr_0_1,title='k1 curr up',name='k1 curr up',subplot=0)\n",
    "pp.add(data.keith_smub_curr_0_2,title='k2 curr up',name='k2 curr up',subplot=1)\n",
    "pp.add(data.keith_smua_curr_1_1,title='k1 curr down',name='k1 curr down',subplot=2)\n",
    "pp.add(data.keith_smub_curr_1_2,title='k2 curr down',name='k2 curr down',subplot=3)\n",
    "_=loop_2d_updown.run()"
   ]
  },
  {
   "cell_type": "markdown",
   "metadata": {},
   "source": [
    "# 3d embedded loop example"
   ]
  },
  {
   "cell_type": "code",
   "execution_count": null,
   "metadata": {},
   "outputs": [],
   "source": [
    "pp=qc.Plot()\n",
    "magneticfields=[i*0.1 for i in range(11)]\n",
    "j=0\n",
    "for field in magneticfields:\n",
    "    magnet.field(field)\n",
    "    biasloop=(k1.volt.sweep(0.1,-0.1,num=201),delay=0.1).each(*station_measure)\n",
    "    outergateloop=(k2.volt.sweep(0,1,num=101),delay=2).each(biasloop).\n",
    "    data=outergateloop.get_data_set('name=dev2 bias(0.1 -0.1)V gate(0 1)V with field={}T'.format(field))\n",
    "    data.publisher=pp\n",
    "    pp.add(data.current,title='current',name='current',subplot=j)\n",
    "    outergateloop.run()\n",
    "    j=j+1"
   ]
  }
 ],
 "metadata": {
  "kernelspec": {
   "display_name": "Python 3 (ipykernel)",
   "language": "python",
   "name": "python3"
  },
  "language_info": {
   "codemirror_mode": {
    "name": "ipython",
    "version": 3
   },
   "file_extension": ".py",
   "mimetype": "text/x-python",
   "name": "python",
   "nbconvert_exporter": "python",
   "pygments_lexer": "ipython3",
   "version": "3.10.6"
  },
  "toc": {
   "base_numbering": 1,
   "nav_menu": {},
   "number_sections": true,
   "sideBar": true,
   "skip_h1_title": false,
   "title_cell": "Table of Contents",
   "title_sidebar": "Contents",
   "toc_cell": false,
   "toc_position": {
    "height": "1156px",
    "left": "153px",
    "top": "486.233px",
    "width": "218.2px"
   },
   "toc_section_display": true,
   "toc_window_display": true
  }
 },
 "nbformat": 4,
 "nbformat_minor": 4
}
